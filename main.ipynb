{
 "cells": [
  {
   "cell_type": "code",
   "execution_count": 40,
   "metadata": {
    "collapsed": true,
    "pycharm": {
     "name": "#%%\n"
    }
   },
   "outputs": [
    {
     "name": "stdout",
     "output_type": "stream",
     "text": [
      "similarity: 0.9128709291752769\n"
     ]
    }
   ],
   "source": [
    "import re\n",
    "import pandas as pd\n",
    "import numpy as np\n",
    "\n",
    "def process_string(str):\n",
    "    # Transform all the text into lower case to avoid difference like hi and Hi\n",
    "    res = str.lower()\n",
    "\n",
    "    # Delete the characters that don't affect the word's composition: , . ! ?\n",
    "    res = re.sub('[,.!?]', '', res)\n",
    "    return res\n",
    "\n",
    "def get_cosine_similarity(input_1, input_2):\n",
    "    s1, s2 = process_string(input_1), process_string(input_2)\n",
    "\n",
    "    # Separate strings in words\n",
    "    sep_1, sep_2 = s1.split(), s2.split()\n",
    "    all_words = set(sep_1 + sep_2)\n",
    "\n",
    "    # Initialize the vectors\n",
    "    vectors = pd.DataFrame(columns=all_words, index=['s1','s2'])\n",
    "    for col in vectors.columns:\n",
    "        vectors[col].values[:] = 0\n",
    "\n",
    "    for word in sep_1:\n",
    "        vectors.at['s1', word] = vectors.at['s1', word] + 1\n",
    "    for word in sep_2:\n",
    "        vectors.at['s2', word] = vectors.at['s2', word] + 1\n",
    "\n",
    "    return np.dot(vectors.loc['s1'], vectors.loc['s2']) / (np.linalg.norm(vectors.loc['s1']) * np.linalg.norm(vectors.loc['s2']))\n",
    "\n",
    "\n",
    "\n",
    "sen_1 = input(\"Enter your first sentence\")\n",
    "sen_2 = input(\"Enter your second sentence\")\n",
    "#sen_1 = 'This is ANother good one!?.'\n",
    "#sen_2 = 'this is the FiRSt !.for this,'\n",
    "# sen_1 = 'This Another good one sentence!?.'\n",
    "# sen_2 = 'This is ANother good sentence one!?.'\n",
    "\n",
    "print('similarity:', get_cosine_similarity(sen_1, sen_2))\n",
    "\n",
    "#this is another good one!?.\n",
    "#this is the first !.for this,"
   ]
  },
  {
   "cell_type": "code",
   "execution_count": null,
   "outputs": [],
   "source": [],
   "metadata": {
    "collapsed": false,
    "pycharm": {
     "name": "#%%\n"
    }
   }
  }
 ],
 "metadata": {
  "kernelspec": {
   "display_name": "Python 3",
   "language": "python",
   "name": "python3"
  },
  "language_info": {
   "codemirror_mode": {
    "name": "ipython",
    "version": 2
   },
   "file_extension": ".py",
   "mimetype": "text/x-python",
   "name": "python",
   "nbconvert_exporter": "python",
   "pygments_lexer": "ipython2",
   "version": "2.7.6"
  }
 },
 "nbformat": 4,
 "nbformat_minor": 0
}